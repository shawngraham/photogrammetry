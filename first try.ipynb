{
 "cells": [
  {
   "cell_type": "code",
   "execution_count": 6,
   "metadata": {},
   "outputs": [
    {
     "name": "stdout",
     "output_type": "stream",
     "text": [
      "Working directory created: /tmp/osm-bundler-7gzqes\n",
      "BundlerMatching executable path: /home/jovyan/osm-bundler/software/bundler/bin/KeyMatchFull\n",
      "Sift executable path: /home/jovyan/osm-bundler/software/vlfeat/bin/glx/sift\n",
      "\n",
      "Processing photo 'kermit003.jpg':\n",
      "\tEntry for the camera 'Canon', 'Canon PowerShot A10' does not exist in the camera database\n",
      "\tCan't estimate focal length in pixels for the photo '/home/jovyan/models/examples/kermit/kermit003.jpg'\n",
      "\tExtracting features with the SIFT method from VLFeat library...\n",
      "Traceback (most recent call last):\n",
      "  File \"osm-bundler/RunBundler.py\", line 9, in <module>\n",
      "    manager.preparePhotos()\n",
      "  File \"/home/jovyan/osm-bundler/osmbundler/__init__.py\", line 121, in preparePhotos\n",
      "    self._preparePhoto(photoInfo)\n",
      "  File \"/home/jovyan/osm-bundler/osmbundler/__init__.py\", line 176, in _preparePhoto\n",
      "    self.extractFeatures(photo)\n",
      "  File \"/home/jovyan/osm-bundler/osmbundler/__init__.py\", line 244, in extractFeatures\n",
      "    self.featureExtractor.extract(photo, self.photoDict[photo])\n",
      "  File \"/home/jovyan/osm-bundler/osmbundler/features/siftvlfeat.py\", line 16, in extract\n",
      "    subprocess.call([self.executable, \"%s.jpg.pgm\" % photo, \"-o\", \"%s.key\" % photo])\n",
      "  File \"/srv/conda/envs/kernel/lib/python2.7/subprocess.py\", line 172, in call\n",
      "    return Popen(*popenargs, **kwargs).wait()\n",
      "  File \"/srv/conda/envs/kernel/lib/python2.7/subprocess.py\", line 394, in __init__\n",
      "    errread, errwrite)\n",
      "  File \"/srv/conda/envs/kernel/lib/python2.7/subprocess.py\", line 1047, in _execute_child\n",
      "    raise child_exception\n",
      "OSError: [Errno 13] Permission denied\n"
     ]
    }
   ],
   "source": [
    "!python2 osm-bundler/RunBundler.py --photos=\"/home/jovyan/models/examples/kermit\" "
   ]
  },
  {
   "cell_type": "code",
   "execution_count": null,
   "metadata": {},
   "outputs": [],
   "source": []
  }
 ],
 "metadata": {
  "kernelspec": {
   "display_name": "Python 2",
   "language": "python",
   "name": "python2"
  },
  "language_info": {
   "codemirror_mode": {
    "name": "ipython",
    "version": 2
   },
   "file_extension": ".py",
   "mimetype": "text/x-python",
   "name": "python",
   "nbconvert_exporter": "python",
   "pygments_lexer": "ipython2",
   "version": "2.7.15"
  }
 },
 "nbformat": 4,
 "nbformat_minor": 2
}
